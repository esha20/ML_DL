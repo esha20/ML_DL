{
  "nbformat": 4,
  "nbformat_minor": 0,
  "metadata": {
    "colab": {
      "name": "cifar_10_CNN_model.ipynb",
      "provenance": [],
      "authorship_tag": "ABX9TyPjqzHXzfLAhZQK7WYnwL1O",
      "include_colab_link": true
    },
    "kernelspec": {
      "name": "python3",
      "display_name": "Python 3"
    },
    "language_info": {
      "name": "python"
    },
    "accelerator": "GPU"
  },
  "cells": [
    {
      "cell_type": "markdown",
      "metadata": {
        "id": "view-in-github",
        "colab_type": "text"
      },
      "source": [
        "<a href=\"https://colab.research.google.com/github/esha20/ML_DL/blob/main/cifar_10_CNN_model.ipynb\" target=\"_parent\"><img src=\"https://colab.research.google.com/assets/colab-badge.svg\" alt=\"Open In Colab\"/></a>"
      ]
    },
    {
      "cell_type": "code",
      "execution_count": 1,
      "metadata": {
        "id": "THyiA4p9DJyi"
      },
      "outputs": [],
      "source": [
        "from tensorflow import keras\n",
        "from keras import layers\n",
        "from keras import models \n",
        "from keras.layers import *\n",
        "import matplotlib.pyplot as plt"
      ]
    },
    {
      "cell_type": "code",
      "source": [
        "n=keras.datasets.cifar10"
      ],
      "metadata": {
        "id": "XXBh9oAXDqT2"
      },
      "execution_count": 2,
      "outputs": []
    },
    {
      "cell_type": "code",
      "source": [
        "(train,target_t),(test, target_te)=n.load_data()"
      ],
      "metadata": {
        "colab": {
          "base_uri": "https://localhost:8080/"
        },
        "id": "KAYKOj7mD_Su",
        "outputId": "3be4f268-bd7d-430d-fa46-c76934e13ba5"
      },
      "execution_count": 3,
      "outputs": [
        {
          "output_type": "stream",
          "name": "stdout",
          "text": [
            "Downloading data from https://www.cs.toronto.edu/~kriz/cifar-10-python.tar.gz\n",
            "170500096/170498071 [==============================] - 2s 0us/step\n",
            "170508288/170498071 [==============================] - 2s 0us/step\n"
          ]
        }
      ]
    },
    {
      "cell_type": "code",
      "source": [
        "train.shape"
      ],
      "metadata": {
        "colab": {
          "base_uri": "https://localhost:8080/"
        },
        "id": "ry2IuBnFExu8",
        "outputId": "2cccb4ea-14b1-4805-b822-974244f24c4a"
      },
      "execution_count": 4,
      "outputs": [
        {
          "output_type": "execute_result",
          "data": {
            "text/plain": [
              "(50000, 32, 32, 3)"
            ]
          },
          "metadata": {},
          "execution_count": 4
        }
      ]
    },
    {
      "cell_type": "code",
      "source": [
        "test.shape"
      ],
      "metadata": {
        "colab": {
          "base_uri": "https://localhost:8080/"
        },
        "id": "DVP7I-JVFFje",
        "outputId": "1c732955-01fd-45c6-e10b-dfffc58a86e0"
      },
      "execution_count": 5,
      "outputs": [
        {
          "output_type": "execute_result",
          "data": {
            "text/plain": [
              "(10000, 32, 32, 3)"
            ]
          },
          "metadata": {},
          "execution_count": 5
        }
      ]
    },
    {
      "cell_type": "code",
      "source": [
        "#channel is present for both."
      ],
      "metadata": {
        "id": "2xnXalC1FPy4"
      },
      "execution_count": 6,
      "outputs": []
    },
    {
      "cell_type": "code",
      "source": [
        "model=models.Sequential()\n",
        "model.add(Conv2D(64,kernel_size=(5,5),activation='relu',input_shape=(32,32,3)))\n",
        "model.add(MaxPooling2D())\n",
        "model.add(Conv2D(128,kernel_size=(5,5),activation='relu'))\n",
        "model.add(MaxPooling2D())\n",
        "model.add(Conv2D(256,kernel_size=(5,5),activation='relu'))\n",
        "model.add(Flatten())"
      ],
      "metadata": {
        "id": "9aufg-k7HI3B"
      },
      "execution_count": 7,
      "outputs": []
    },
    {
      "cell_type": "code",
      "source": [
        "model.summary()"
      ],
      "metadata": {
        "colab": {
          "base_uri": "https://localhost:8080/"
        },
        "id": "Bj-4R8Lm6-yz",
        "outputId": "70864d0d-0085-4ee9-a876-667549e418d5"
      },
      "execution_count": 8,
      "outputs": [
        {
          "output_type": "stream",
          "name": "stdout",
          "text": [
            "Model: \"sequential\"\n",
            "_________________________________________________________________\n",
            " Layer (type)                Output Shape              Param #   \n",
            "=================================================================\n",
            " conv2d (Conv2D)             (None, 28, 28, 64)        4864      \n",
            "                                                                 \n",
            " max_pooling2d (MaxPooling2D  (None, 14, 14, 64)       0         \n",
            " )                                                               \n",
            "                                                                 \n",
            " conv2d_1 (Conv2D)           (None, 10, 10, 128)       204928    \n",
            "                                                                 \n",
            " max_pooling2d_1 (MaxPooling  (None, 5, 5, 128)        0         \n",
            " 2D)                                                             \n",
            "                                                                 \n",
            " conv2d_2 (Conv2D)           (None, 1, 1, 256)         819456    \n",
            "                                                                 \n",
            " flatten (Flatten)           (None, 256)               0         \n",
            "                                                                 \n",
            "=================================================================\n",
            "Total params: 1,029,248\n",
            "Trainable params: 1,029,248\n",
            "Non-trainable params: 0\n",
            "_________________________________________________________________\n"
          ]
        }
      ]
    },
    {
      "cell_type": "code",
      "source": [
        "model.add(Dense(128,activation='relu'))\n",
        "model.add(Dense(64,activation='relu'))\n",
        "model.add(Dense(512,activation='sigmoid'))"
      ],
      "metadata": {
        "id": "ULLEVY6U7SOl"
      },
      "execution_count": 9,
      "outputs": []
    },
    {
      "cell_type": "code",
      "source": [
        "model.summary()"
      ],
      "metadata": {
        "colab": {
          "base_uri": "https://localhost:8080/"
        },
        "id": "D1yA_u9c8MEZ",
        "outputId": "5a9a1320-4fd5-4885-c658-56b02e9c47b5"
      },
      "execution_count": 10,
      "outputs": [
        {
          "output_type": "stream",
          "name": "stdout",
          "text": [
            "Model: \"sequential\"\n",
            "_________________________________________________________________\n",
            " Layer (type)                Output Shape              Param #   \n",
            "=================================================================\n",
            " conv2d (Conv2D)             (None, 28, 28, 64)        4864      \n",
            "                                                                 \n",
            " max_pooling2d (MaxPooling2D  (None, 14, 14, 64)       0         \n",
            " )                                                               \n",
            "                                                                 \n",
            " conv2d_1 (Conv2D)           (None, 10, 10, 128)       204928    \n",
            "                                                                 \n",
            " max_pooling2d_1 (MaxPooling  (None, 5, 5, 128)        0         \n",
            " 2D)                                                             \n",
            "                                                                 \n",
            " conv2d_2 (Conv2D)           (None, 1, 1, 256)         819456    \n",
            "                                                                 \n",
            " flatten (Flatten)           (None, 256)               0         \n",
            "                                                                 \n",
            " dense (Dense)               (None, 128)               32896     \n",
            "                                                                 \n",
            " dense_1 (Dense)             (None, 64)                8256      \n",
            "                                                                 \n",
            " dense_2 (Dense)             (None, 512)               33280     \n",
            "                                                                 \n",
            "=================================================================\n",
            "Total params: 1,103,680\n",
            "Trainable params: 1,103,680\n",
            "Non-trainable params: 0\n",
            "_________________________________________________________________\n"
          ]
        }
      ]
    },
    {
      "cell_type": "code",
      "source": [
        "model.compile(loss='sparse_categorical_crossentropy',optimizer='sgd',metrics=['accuracy'])"
      ],
      "metadata": {
        "id": "601jgwEr8Y2q"
      },
      "execution_count": 11,
      "outputs": []
    },
    {
      "cell_type": "code",
      "source": [
        "h=model.fit(train,target_t,epochs=50,validation_data=(test,target_te))"
      ],
      "metadata": {
        "colab": {
          "base_uri": "https://localhost:8080/"
        },
        "id": "5_K0oRlN8ay9",
        "outputId": "647c789a-2abc-4bc1-9296-8093ed93694d"
      },
      "execution_count": 14,
      "outputs": [
        {
          "output_type": "stream",
          "name": "stdout",
          "text": [
            "Epoch 1/50\n",
            "1563/1563 [==============================] - 9s 5ms/step - loss: 0.6679 - accuracy: 0.7689 - val_loss: 2.2344 - val_accuracy: 0.4585\n",
            "Epoch 2/50\n",
            "1563/1563 [==============================] - 8s 5ms/step - loss: 0.6219 - accuracy: 0.7837 - val_loss: 2.3464 - val_accuracy: 0.4785\n",
            "Epoch 3/50\n",
            "1563/1563 [==============================] - 9s 6ms/step - loss: 0.6073 - accuracy: 0.7916 - val_loss: 2.3080 - val_accuracy: 0.4732\n",
            "Epoch 4/50\n",
            "1563/1563 [==============================] - 9s 6ms/step - loss: 0.5714 - accuracy: 0.8034 - val_loss: 2.6508 - val_accuracy: 0.4528\n",
            "Epoch 5/50\n",
            "1563/1563 [==============================] - 8s 5ms/step - loss: 0.5388 - accuracy: 0.8151 - val_loss: 2.6031 - val_accuracy: 0.4662\n",
            "Epoch 6/50\n",
            "1563/1563 [==============================] - 8s 5ms/step - loss: 0.5123 - accuracy: 0.8256 - val_loss: 2.6971 - val_accuracy: 0.4657\n",
            "Epoch 7/50\n",
            "1563/1563 [==============================] - 9s 6ms/step - loss: 0.5021 - accuracy: 0.8302 - val_loss: 2.4842 - val_accuracy: 0.4731\n",
            "Epoch 8/50\n",
            "1563/1563 [==============================] - 8s 5ms/step - loss: 0.4805 - accuracy: 0.8396 - val_loss: 2.6814 - val_accuracy: 0.4663\n",
            "Epoch 9/50\n",
            "1563/1563 [==============================] - 9s 6ms/step - loss: 0.4681 - accuracy: 0.8441 - val_loss: 2.7046 - val_accuracy: 0.4735\n",
            "Epoch 10/50\n",
            "1563/1563 [==============================] - 8s 5ms/step - loss: 0.4270 - accuracy: 0.8564 - val_loss: 2.8482 - val_accuracy: 0.4716\n",
            "Epoch 11/50\n",
            "1563/1563 [==============================] - 8s 5ms/step - loss: 0.4111 - accuracy: 0.8651 - val_loss: 2.6665 - val_accuracy: 0.4655\n",
            "Epoch 12/50\n",
            "1563/1563 [==============================] - 8s 5ms/step - loss: 0.3961 - accuracy: 0.8706 - val_loss: 2.9955 - val_accuracy: 0.4715\n",
            "Epoch 13/50\n",
            "1563/1563 [==============================] - 9s 6ms/step - loss: 0.3824 - accuracy: 0.8740 - val_loss: 3.0269 - val_accuracy: 0.4558\n",
            "Epoch 14/50\n",
            "1563/1563 [==============================] - 8s 5ms/step - loss: 0.3948 - accuracy: 0.8731 - val_loss: 2.7231 - val_accuracy: 0.4747\n",
            "Epoch 15/50\n",
            "1563/1563 [==============================] - 9s 6ms/step - loss: 0.3606 - accuracy: 0.8839 - val_loss: 3.2771 - val_accuracy: 0.4638\n",
            "Epoch 16/50\n",
            "1563/1563 [==============================] - 9s 6ms/step - loss: 0.3400 - accuracy: 0.8906 - val_loss: 3.2293 - val_accuracy: 0.4686\n",
            "Epoch 17/50\n",
            "1563/1563 [==============================] - 9s 6ms/step - loss: 0.3347 - accuracy: 0.8926 - val_loss: 3.3777 - val_accuracy: 0.4762\n",
            "Epoch 18/50\n",
            "1563/1563 [==============================] - 9s 6ms/step - loss: 0.3181 - accuracy: 0.8991 - val_loss: 3.1362 - val_accuracy: 0.4701\n",
            "Epoch 19/50\n",
            "1563/1563 [==============================] - 9s 6ms/step - loss: 0.3060 - accuracy: 0.9029 - val_loss: 3.5423 - val_accuracy: 0.4580\n",
            "Epoch 20/50\n",
            "1563/1563 [==============================] - 8s 5ms/step - loss: 0.3005 - accuracy: 0.9065 - val_loss: 3.5449 - val_accuracy: 0.4626\n",
            "Epoch 21/50\n",
            "1563/1563 [==============================] - 8s 5ms/step - loss: 0.2961 - accuracy: 0.9074 - val_loss: 3.4570 - val_accuracy: 0.4578\n",
            "Epoch 22/50\n",
            "1563/1563 [==============================] - 8s 5ms/step - loss: 0.2890 - accuracy: 0.9109 - val_loss: 4.0783 - val_accuracy: 0.4508\n",
            "Epoch 23/50\n",
            "1563/1563 [==============================] - 8s 5ms/step - loss: 0.2730 - accuracy: 0.9177 - val_loss: 3.5121 - val_accuracy: 0.4583\n",
            "Epoch 24/50\n",
            "1563/1563 [==============================] - 8s 5ms/step - loss: 0.2912 - accuracy: 0.9128 - val_loss: 3.4785 - val_accuracy: 0.4600\n",
            "Epoch 25/50\n",
            "1563/1563 [==============================] - 8s 5ms/step - loss: 0.2812 - accuracy: 0.9148 - val_loss: 3.4357 - val_accuracy: 0.4619\n",
            "Epoch 26/50\n",
            "1563/1563 [==============================] - 8s 5ms/step - loss: 0.2597 - accuracy: 0.9220 - val_loss: 3.6928 - val_accuracy: 0.4597\n",
            "Epoch 27/50\n",
            "1563/1563 [==============================] - 9s 6ms/step - loss: 0.2502 - accuracy: 0.9248 - val_loss: 3.7275 - val_accuracy: 0.4636\n",
            "Epoch 28/50\n",
            "1563/1563 [==============================] - 9s 6ms/step - loss: 0.2586 - accuracy: 0.9225 - val_loss: 3.6790 - val_accuracy: 0.4611\n",
            "Epoch 29/50\n",
            "1563/1563 [==============================] - 8s 5ms/step - loss: 0.2522 - accuracy: 0.9258 - val_loss: 3.8145 - val_accuracy: 0.4723\n",
            "Epoch 30/50\n",
            "1563/1563 [==============================] - 8s 5ms/step - loss: 0.2617 - accuracy: 0.9251 - val_loss: 3.6550 - val_accuracy: 0.4701\n",
            "Epoch 31/50\n",
            "1563/1563 [==============================] - 8s 5ms/step - loss: 0.2564 - accuracy: 0.9270 - val_loss: 3.4681 - val_accuracy: 0.4646\n",
            "Epoch 32/50\n",
            "1563/1563 [==============================] - 8s 5ms/step - loss: 0.2116 - accuracy: 0.9384 - val_loss: 4.0928 - val_accuracy: 0.4659\n",
            "Epoch 33/50\n",
            "1563/1563 [==============================] - 8s 5ms/step - loss: 0.2273 - accuracy: 0.9354 - val_loss: 3.6476 - val_accuracy: 0.4726\n",
            "Epoch 34/50\n",
            "1563/1563 [==============================] - 9s 6ms/step - loss: 0.2066 - accuracy: 0.9404 - val_loss: 3.9771 - val_accuracy: 0.4645\n",
            "Epoch 35/50\n",
            "1563/1563 [==============================] - 9s 6ms/step - loss: 0.2216 - accuracy: 0.9367 - val_loss: 4.3269 - val_accuracy: 0.4479\n",
            "Epoch 36/50\n",
            "1563/1563 [==============================] - 8s 5ms/step - loss: 0.2165 - accuracy: 0.9380 - val_loss: 4.4275 - val_accuracy: 0.4266\n",
            "Epoch 37/50\n",
            "1563/1563 [==============================] - 8s 5ms/step - loss: 0.2145 - accuracy: 0.9385 - val_loss: 4.0353 - val_accuracy: 0.4784\n",
            "Epoch 38/50\n",
            "1563/1563 [==============================] - 9s 6ms/step - loss: 0.2059 - accuracy: 0.9406 - val_loss: 3.9702 - val_accuracy: 0.4696\n",
            "Epoch 39/50\n",
            "1563/1563 [==============================] - 9s 6ms/step - loss: 0.1958 - accuracy: 0.9435 - val_loss: 4.2408 - val_accuracy: 0.4696\n",
            "Epoch 40/50\n",
            "1563/1563 [==============================] - 8s 5ms/step - loss: 0.2218 - accuracy: 0.9382 - val_loss: 4.2196 - val_accuracy: 0.4710\n",
            "Epoch 41/50\n",
            "1563/1563 [==============================] - 9s 6ms/step - loss: 0.2027 - accuracy: 0.9449 - val_loss: 4.1313 - val_accuracy: 0.4672\n",
            "Epoch 42/50\n",
            "1563/1563 [==============================] - 8s 5ms/step - loss: 0.1955 - accuracy: 0.9460 - val_loss: 4.1549 - val_accuracy: 0.4711\n",
            "Epoch 43/50\n",
            "1563/1563 [==============================] - 9s 6ms/step - loss: 0.1967 - accuracy: 0.9471 - val_loss: 4.3669 - val_accuracy: 0.4433\n",
            "Epoch 44/50\n",
            "1563/1563 [==============================] - 8s 5ms/step - loss: 0.1989 - accuracy: 0.9466 - val_loss: 4.7059 - val_accuracy: 0.4696\n",
            "Epoch 45/50\n",
            "1563/1563 [==============================] - 8s 5ms/step - loss: 0.1927 - accuracy: 0.9482 - val_loss: 4.2689 - val_accuracy: 0.4681\n",
            "Epoch 46/50\n",
            "1563/1563 [==============================] - 8s 5ms/step - loss: 0.1867 - accuracy: 0.9501 - val_loss: 4.3217 - val_accuracy: 0.4737\n",
            "Epoch 47/50\n",
            "1563/1563 [==============================] - 9s 6ms/step - loss: 0.1967 - accuracy: 0.9479 - val_loss: 4.1754 - val_accuracy: 0.4647\n",
            "Epoch 48/50\n",
            "1563/1563 [==============================] - 8s 5ms/step - loss: 0.1700 - accuracy: 0.9547 - val_loss: 4.2439 - val_accuracy: 0.4654\n",
            "Epoch 49/50\n",
            "1563/1563 [==============================] - 9s 6ms/step - loss: 0.1771 - accuracy: 0.9528 - val_loss: 3.9549 - val_accuracy: 0.4755\n",
            "Epoch 50/50\n",
            "1563/1563 [==============================] - 9s 6ms/step - loss: 0.1800 - accuracy: 0.9533 - val_loss: 4.3496 - val_accuracy: 0.4710\n"
          ]
        }
      ]
    },
    {
      "cell_type": "code",
      "source": [
        "h.history.keys()\n",
        "a=h.history['accuracy']\n",
        "l=h.history['loss']\n",
        "plt.plot(a,'r-')\n",
        "plt.plot(l,'g-')"
      ],
      "metadata": {
        "colab": {
          "base_uri": "https://localhost:8080/",
          "height": 282
        },
        "id": "Ij2ghW7s8v_9",
        "outputId": "73989e46-ee08-4ca7-96c0-e4d557a20d4d"
      },
      "execution_count": 16,
      "outputs": [
        {
          "output_type": "execute_result",
          "data": {
            "text/plain": [
              "[<matplotlib.lines.Line2D at 0x7fa3aa08e790>]"
            ]
          },
          "metadata": {},
          "execution_count": 16
        },
        {
          "output_type": "display_data",
          "data": {
            "text/plain": [
              "<Figure size 432x288 with 1 Axes>"
            ],
            "image/png": "[encoded data removed]"
          },
          "metadata": {
            "needs_background": "light"
          }
        }
      ]
    },
    {
      "cell_type": "code",
      "source": [
        ""
      ],
      "metadata": {
        "id": "KpzPp-Q6Ci0R"
      },
      "execution_count": null,
      "outputs": []
    }
  ]
}